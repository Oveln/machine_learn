{
 "cells": [
  {
   "cell_type": "code",
   "execution_count": 4,
   "id": "ea4ae8f7",
   "metadata": {},
   "outputs": [],
   "source": [
    "# 导入鸢尾花数据集\n",
    "from sklearn import datasets\n",
    "# 导入决策树分类器\n",
    "from sklearn.tree import DecisionTreeClassifier\n",
    "# 导入数据集划分函数\n",
    "from sklearn.model_selection import train_test_split"
   ]
  },
  {
   "cell_type": "code",
   "execution_count": 5,
   "id": "f01d216d",
   "metadata": {},
   "outputs": [
    {
     "name": "stdout",
     "output_type": "stream",
     "text": [
      "[2 1 0 2 0 2 0 1 1 1 2 1 1 1 1 0 1 1 0 0 2 1 0 0 2 0 0 1 1 0 2 1 0 2 2 1 0\n",
      " 2]\n"
     ]
    }
   ],
   "source": [
    "# 导入数据集\n",
    "iris = datasets.load_iris()\n",
    "\n",
    "# 划分数据集为训练集和测试集\n",
    "x_train, x_test, y_train, y_test = train_test_split(iris.data, iris.target, test_size=0.25, random_state=0)\n",
    "\n",
    "# 使用id3算法训练决策树分类器\n",
    "# clf = DecisionTreeClassifier(criterion='gini')\n",
    "# clf.fit(x_train, y_train)\n",
    "from sklearn.neighbors import KNeighborsClassifier\n",
    "clf = KNeighborsClassifier(n_neighbors=3)\n",
    "clf.fit(x_train, y_train)\n",
    "\n",
    "# 预测测试集\n",
    "y_pred = clf.predict(x_test)\n",
    "\n",
    "# 输出预测结果\n",
    "print(y_pred)\n"
   ]
  },
  {
   "cell_type": "code",
   "execution_count": 6,
   "id": "56daef38",
   "metadata": {},
   "outputs": [
    {
     "name": "stdout",
     "output_type": "stream",
     "text": [
      "              precision    recall  f1-score   support\n",
      "\n",
      "           0       1.00      1.00      1.00        13\n",
      "           1       1.00      0.94      0.97        16\n",
      "           2       0.90      1.00      0.95         9\n",
      "\n",
      "    accuracy                           0.97        38\n",
      "   macro avg       0.97      0.98      0.97        38\n",
      "weighted avg       0.98      0.97      0.97        38\n",
      "\n",
      "各类别指标：---------------------------------------------\n",
      "Accuracy: 0.9736842105263158, Precision: 0.9763157894736842, Recall: 0.9736842105263158, F1-Score: 0.9739522830846216\n"
     ]
    }
   ],
   "source": [
    "from sklearn.metrics import classification_report\n",
    "# 评估\n",
    "print(classification_report(y_test, y_pred))\n",
    "accuracy = classification_report(y_test, y_pred, output_dict=True)['accuracy']\n",
    "s = classification_report(y_test, y_pred, output_dict=True)['weighted avg']\n",
    "precision = s['precision']\n",
    "recall = s['recall']\n",
    "f1_score = s['f1-score']\n",
    "print('各类别指标：'+ '-' * 45)\n",
    "print(f'Accuracy: {accuracy}, Precision: {precision}, Recall: {recall}, F1-Score: {f1_score}')"
   ]
  },
  {
   "cell_type": "code",
   "execution_count": null,
   "id": "55561523",
   "metadata": {},
   "outputs": [],
   "source": []
  }
 ],
 "metadata": {
  "kernelspec": {
   "display_name": "machine-learn",
   "language": "python",
   "name": "python3"
  },
  "language_info": {
   "codemirror_mode": {
    "name": "ipython",
    "version": 3
   },
   "file_extension": ".py",
   "mimetype": "text/x-python",
   "name": "python",
   "nbconvert_exporter": "python",
   "pygments_lexer": "ipython3",
   "version": "3.13.7"
  }
 },
 "nbformat": 4,
 "nbformat_minor": 5
}
