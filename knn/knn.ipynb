{
 "cells": [
  {
   "cell_type": "code",
   "execution_count": 9,
   "id": "84b58443-2655-4aa9-af6c-ef1fca8f2411",
   "metadata": {},
   "outputs": [],
   "source": [
    "# import libs\n",
    "import numpy as np\n",
    "import matplotlib.pyplot as plt"
   ]
  },
  {
   "cell_type": "code",
   "execution_count": 10,
   "id": "48a4f8d9-9598-462d-acc9-124e017aab2d",
   "metadata": {},
   "outputs": [],
   "source": [
    "# set K\n",
    "k = 1"
   ]
  },
  {
   "cell_type": "code",
   "execution_count": 11,
   "id": "1bba37b4-d020-4f09-9c26-f6ee6d7fabd1",
   "metadata": {},
   "outputs": [],
   "source": [
    "# data set prepare\n",
    "X = np.array([[1,2],[3,3]])\n",
    "Y = np.array([1,0])"
   ]
  },
  {
   "cell_type": "code",
   "execution_count": 12,
   "id": "12ed7858-82e1-4f1f-899f-d067b00fc9ac",
   "metadata": {},
   "outputs": [],
   "source": [
    "sample = np.array([[3,3]])"
   ]
  },
  {
   "cell_type": "code",
   "execution_count": 13,
   "id": "0a0780db-48de-4f0d-bf7d-ac32790b5411",
   "metadata": {},
   "outputs": [
    {
     "name": "stdout",
     "output_type": "stream",
     "text": [
      "[2.23606798 0.        ]\n"
     ]
    }
   ],
   "source": [
    "distance = np.linalg.norm(X-sample, ord = 2, axis = 1)\n",
    "print(distance)"
   ]
  },
  {
   "cell_type": "code",
   "execution_count": 14,
   "id": "5a07b312-01a4-4c5b-9e1f-bed47900e4b4",
   "metadata": {},
   "outputs": [
    {
     "name": "stdout",
     "output_type": "stream",
     "text": [
      "ids_sorted:  [1]\n"
     ]
    }
   ],
   "source": [
    "ids_sorted = np.argsort(distance)[:k]\n",
    "print(\"ids_sorted: \",ids_sorted)"
   ]
  },
  {
   "cell_type": "code",
   "execution_count": 15,
   "id": "99f7f858-f68c-4590-8be7-edf7210e43a0",
   "metadata": {},
   "outputs": [
    {
     "name": "stdout",
     "output_type": "stream",
     "text": [
      "[[1 1]\n",
      " [1 1]]\n"
     ]
    }
   ],
   "source": [
    "x = [1,0,1,0]\n",
    "y = [0,0,1,1]\n",
    "from sklearn.metrics import confusion_matrix\n",
    "cm = confusion_matrix(x,y)\n",
    "print(cm)"
   ]
  },
  {
   "cell_type": "code",
   "execution_count": null,
   "id": "1044e30a",
   "metadata": {},
   "outputs": [],
   "source": []
  }
 ],
 "metadata": {
  "kernelspec": {
   "display_name": "machine-learn",
   "language": "python",
   "name": "python3"
  },
  "language_info": {
   "codemirror_mode": {
    "name": "ipython",
    "version": 3
   },
   "file_extension": ".py",
   "mimetype": "text/x-python",
   "name": "python",
   "nbconvert_exporter": "python",
   "pygments_lexer": "ipython3",
   "version": "3.13.7"
  }
 },
 "nbformat": 4,
 "nbformat_minor": 5
}
